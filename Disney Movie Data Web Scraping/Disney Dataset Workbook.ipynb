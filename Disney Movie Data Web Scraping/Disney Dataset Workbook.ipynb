{
 "cells": [
  {
   "cell_type": "markdown",
   "id": "91481540",
   "metadata": {},
   "source": [
    "## Dataset Creation (w/ Python BeautifulSoup)"
   ]
  },
  {
   "cell_type": "code",
   "execution_count": 1,
   "id": "5595f2bb",
   "metadata": {},
   "outputs": [],
   "source": [
    "import requests\n",
    "from bs4 import BeautifulSoup as bs\n",
    "import re"
   ]
  },
  {
   "cell_type": "markdown",
   "id": "61513ffe",
   "metadata": {},
   "source": [
    "### Scraping Wikipedia info box into Python dictionary"
   ]
  },
  {
   "cell_type": "markdown",
   "id": "77b16722",
   "metadata": {},
   "source": [
    "#### Loading the webpage"
   ]
  },
  {
   "cell_type": "code",
   "execution_count": 2,
   "id": "9a3023be",
   "metadata": {},
   "outputs": [],
   "source": [
    "r = requests.get(\"https://en.wikipedia.org/wiki/Toy_Story_3\")\n",
    "\n",
    "# Convert to a beautiful soup object\n",
    "soup = bs(r.content)\n",
    "\n",
    "#Print out the HTML\n",
    "contents = soup.prettify()"
   ]
  },
  {
   "cell_type": "code",
   "execution_count": 3,
   "id": "d3a60bc9",
   "metadata": {
    "scrolled": true
   },
   "outputs": [],
   "source": [
    "info_box = soup.find(class_=\"infobox vevent\")\n",
    "info_rows = info_box.find_all(\"tr\")"
   ]
  },
  {
   "cell_type": "code",
   "execution_count": 7,
   "id": "8f00f3cb",
   "metadata": {
    "scrolled": true
   },
   "outputs": [
    {
     "data": {
      "text/plain": [
       "{'title': 'Toy Story 3',\n",
       " 'Directed by': 'Lee Unkrich',\n",
       " 'Screenplay by': 'Michael Arndt',\n",
       " 'Story by': ['John Lasseter', 'Andrew Stanton', 'Lee Unkrich'],\n",
       " 'Produced by': 'Darla K. Anderson',\n",
       " 'Starring': ['Tom Hanks',\n",
       "  'Tim Allen',\n",
       "  'Joan Cusack',\n",
       "  'Don Rickles',\n",
       "  'Wallace Shawn',\n",
       "  'John Ratzenberger',\n",
       "  'Estelle Harris',\n",
       "  'Ned Beatty',\n",
       "  'Michael Keaton',\n",
       "  'Jodi Benson',\n",
       "  'John Morris'],\n",
       " 'Cinematography': ['Jeremy Lasky', 'Kim White'],\n",
       " 'Edited by': 'Ken Schretzmann',\n",
       " 'Music by': 'Randy Newman',\n",
       " 'Production companies': ['Walt Disney Pictures', 'Pixar Animation Studios'],\n",
       " 'Distributed by': 'Walt Disney Studios Motion Pictures',\n",
       " 'Release dates': ['June 12, 2010 ( 2010-06-12 ) ( Taormina Film Fest )',\n",
       "  'June 18, 2010 ( 2010-06-18 ) (United States)'],\n",
       " 'Running time': '103 minutes [1]',\n",
       " 'Country': 'United States',\n",
       " 'Language': 'English',\n",
       " 'Budget': '$200 million [1]',\n",
       " 'Box office': '$1.067 billion [1]'}"
      ]
     },
     "execution_count": 7,
     "metadata": {},
     "output_type": "execute_result"
    }
   ],
   "source": [
    "def get_content_value(row_data):\n",
    "    if row_data.find(\"li\"):\n",
    "        return [li.get_text(\" \", strip=True).replace(\"\\xa0\", \" \") for li in row_data.find_all(\"li\")]\n",
    "    else:\n",
    "        return row_data.get_text(\" \", strip=True).replace(\"\\xa0\", \" \")\n",
    "\n",
    "movie_info = {}\n",
    "for index, row in enumerate(info_rows):\n",
    "    if index == 0:\n",
    "        movie_info['title'] = row.find(\"th\").get_text(\" \", strip=True)\n",
    "    elif index == 1:\n",
    "            continue\n",
    "    else:\n",
    "        content_key = row.find(\"th\").get_text(\" \", strip=True)\n",
    "        content_value = get_content_value(row.find(\"td\"))\n",
    "        movie_info[content_key] = content_value\n",
    "\n",
    "\n",
    "            \n",
    "movie_info"
   ]
  },
  {
   "cell_type": "markdown",
   "id": "442726e5",
   "metadata": {},
   "source": [
    "### Getting info box for all movies in the list"
   ]
  },
  {
   "cell_type": "code",
   "execution_count": 8,
   "id": "fe0078a7",
   "metadata": {},
   "outputs": [],
   "source": [
    "r = requests.get(\"https://en.wikipedia.org/wiki/List_of_Walt_Disney_Pictures_films\")\n",
    "\n",
    "soup = bs(r.content)\n",
    "\n",
    "contents = soup.prettify()"
   ]
  },
  {
   "cell_type": "code",
   "execution_count": 9,
   "id": "9160b78a",
   "metadata": {
    "scrolled": true
   },
   "outputs": [
    {
     "data": {
      "text/plain": [
       "[<i><a href=\"/wiki/Academy_Award_Review_of_Walt_Disney_Cartoons\" title=\"Academy Award Review of Walt Disney Cartoons\">Academy Award Review of Walt Disney Cartoons</a></i>,\n",
       " <i><a href=\"/wiki/Snow_White_and_the_Seven_Dwarfs_(1937_film)\" title=\"Snow White and the Seven Dwarfs (1937 film)\">Snow White and the Seven Dwarfs</a></i>,\n",
       " <i><a href=\"/wiki/Pinocchio_(1940_film)\" title=\"Pinocchio (1940 film)\">Pinocchio</a></i>,\n",
       " <i><a href=\"/wiki/Fantasia_(1940_film)\" title=\"Fantasia (1940 film)\">Fantasia</a></i>,\n",
       " <i><a href=\"/wiki/The_Reluctant_Dragon_(1941_film)\" title=\"The Reluctant Dragon (1941 film)\">The Reluctant Dragon</a></i>]"
      ]
     },
     "execution_count": 9,
     "metadata": {},
     "output_type": "execute_result"
    }
   ],
   "source": [
    "movies = soup.select(\".wikitable.sortable i\")\n",
    "movies[0:5]"
   ]
  },
  {
   "cell_type": "code",
   "execution_count": 6,
   "id": "7112ad24",
   "metadata": {},
   "outputs": [],
   "source": [
    "def get_content_value(row_data):\n",
    "    if row_data.find(\"li\"):\n",
    "        return [li.get_text(\" \", strip=True).replace(\"\\xa0\", \" \") for li in row_data.find_all(\"li\")]\n",
    "    elif row_data.find(\"br\"):\n",
    "        return [text for text in row_data.stripped_strings]\n",
    "        \n",
    "    else:\n",
    "        return row_data.get_text(\" \", strip=True).replace(\"\\xa0\", \" \")\n",
    "\n",
    "def clean_tags(soup):  \n",
    "    for tag in soup.find_all([\"sup\",\"span\"]):\n",
    "         tag.decompose() \n",
    "    \n",
    "    \n",
    "def get_info_box(url):\n",
    "    \n",
    "    r = requests.get(url)\n",
    "    soup = bs(r.content)\n",
    "    info_box = soup.find(class_=\"infobox vevent\")\n",
    "    info_rows = info_box.find_all(\"tr\")\n",
    "    \n",
    "    clean_tags(soup)\n",
    "#     for tr in info_rows:\n",
    "#         for tag in tr(['sup']):\n",
    "#             tag.decompose()\n",
    "    \n",
    "    movie_info = {}\n",
    "    for index, row in enumerate(info_rows):\n",
    "        if index == 0:\n",
    "            movie_info['title'] = row.find(\"th\").get_text(\" \", strip=True)\n",
    "        else:\n",
    "            header = row.find('th')\n",
    "            if header:\n",
    "                content_key = row.find(\"th\").get_text(\" \", strip=True)\n",
    "                content_value = get_content_value(row.find(\"td\"))\n",
    "                movie_info[content_key] = content_value\n",
    "\n",
    "    return movie_info"
   ]
  },
  {
   "cell_type": "code",
   "execution_count": 44,
   "id": "8de3f6b2",
   "metadata": {
    "scrolled": true
   },
   "outputs": [
    {
     "data": {
      "text/plain": [
       "{'title': 'Pirates of the Caribbean: On Stranger Tides',\n",
       " 'Directed by': 'Rob Marshall',\n",
       " 'Written by': ['Ted Elliott', 'Terry Rossio'],\n",
       " 'Suggested by': 'On Stranger Tides by Tim Powers',\n",
       " 'Based on': ['Characters by Ted Elliott Terry Rossio Stuart Beattie Jay Wolpert',\n",
       "  'Ted Elliott',\n",
       "  'Terry Rossio',\n",
       "  'Stuart Beattie',\n",
       "  'Jay Wolpert',\n",
       "  \"Walt Disney 's Pirates of the Caribbean\"],\n",
       " 'Produced by': 'Jerry Bruckheimer',\n",
       " 'Starring': ['Johnny Depp',\n",
       "  'Penélope Cruz',\n",
       "  'Ian McShane',\n",
       "  'Kevin R. McNally',\n",
       "  'Geoffrey Rush'],\n",
       " 'Cinematography': 'Dariusz Wolski',\n",
       " 'Edited by': ['David Brenner', 'Wyatt Smith'],\n",
       " 'Music by': 'Hans Zimmer',\n",
       " 'Production companies': ['Walt Disney Pictures', 'Jerry Bruckheimer Films'],\n",
       " 'Distributed by': ['Walt Disney Studios', 'Motion Pictures'],\n",
       " 'Release dates': ['May 7, 2011 ( Disneyland Resort )',\n",
       "  'May 20, 2011 (United States)'],\n",
       " 'Running time': '137 minutes',\n",
       " 'Country': 'United States',\n",
       " 'Language': 'English',\n",
       " 'Budget': ['$410.6 million (gross)', '$378.5 million (net)'],\n",
       " 'Box office': '$1.046 billion'}"
      ]
     },
     "execution_count": 44,
     "metadata": {},
     "output_type": "execute_result"
    }
   ],
   "source": [
    "get_info_box(\"https://en.wikipedia.org/wiki/Pirates_of_the_Caribbean:_On_Stranger_Tides\")"
   ]
  },
  {
   "cell_type": "code",
   "execution_count": 45,
   "id": "60af5e1f",
   "metadata": {
    "collapsed": true
   },
   "outputs": [
    {
     "name": "stdout",
     "output_type": "stream",
     "text": [
      "0\n",
      "10\n",
      "20\n",
      "30\n",
      "40\n",
      "Zorro the Avenger\n",
      "'NoneType' object has no attribute 'find'\n",
      "The Sign of Zorro\n",
      "'NoneType' object has no attribute 'find'\n",
      "50\n",
      "60\n",
      "70\n",
      "80\n",
      "90\n",
      "100\n",
      "110\n",
      "120\n",
      "130\n",
      "140\n",
      "150\n",
      "160\n",
      "170\n",
      "180\n",
      "190\n",
      "200\n",
      "210\n",
      "220\n",
      "230\n",
      "240\n",
      "250\n",
      "260\n",
      "270\n",
      "280\n",
      "290\n",
      "300\n",
      "310\n",
      "320\n",
      "330\n",
      "340\n",
      "350\n",
      "360\n",
      "370\n",
      "380\n",
      "390\n",
      "400\n",
      "410\n",
      "420\n",
      "430\n",
      "440\n",
      "450\n",
      "460\n",
      "470\n",
      "480\n",
      "The Beatles: Get Back – The Rooftop Concert\n",
      "'NoneType' object has no attribute 'find'\n",
      "490\n",
      "500\n",
      "Elemental\n",
      "'NoneType' object has no attribute 'find_all'\n",
      "61\n",
      "'NoneType' object has no attribute 'find_all'\n",
      "All Night Long\n",
      "'NoneType' object has no attribute 'find'\n",
      "510\n",
      "Keeper of the Lost Cities\n",
      "'NoneType' object has no attribute 'find_all'\n",
      "Muppet Man\n",
      "'NoneType' object has no attribute 'find_all'\n",
      "520\n",
      "Shrunk\n",
      "'NoneType' object has no attribute 'find'\n",
      "Sister Act 3\n",
      "'NoneType' object has no attribute 'find'\n",
      "The Graveyard Book\n",
      "'NoneType' object has no attribute 'find_all'\n",
      "The Thief\n",
      "'NoneType' object has no attribute 'find_all'\n",
      "530\n",
      "Tom Sawyer\n",
      "'NoneType' object has no attribute 'find_all'\n",
      "Tower of Terror\n",
      "'NoneType' object has no attribute 'find_all'\n",
      "Tron: Ares\n",
      "'NoneType' object has no attribute 'find'\n",
      "FC Barcelona\n",
      "'NoneType' object has no attribute 'find_all'\n"
     ]
    }
   ],
   "source": [
    "r = requests.get(\"https://en.wikipedia.org/wiki/List_of_Walt_Disney_Pictures_films\")\n",
    "soup = bs(r.content)\n",
    "movies = soup.select(\".wikitable.sortable i a\")\n",
    "\n",
    "base_path = \"https://en.wikipedia.org/\"\n",
    "\n",
    "movie_info_list = []\n",
    "for index, movie in enumerate(movies):\n",
    "    if index % 10 == 0:\n",
    "        print(index)\n",
    "    try:\n",
    "        relative_path = movie['href']\n",
    "        full_path = base_path + relative_path\n",
    "        title = movie['title'] \n",
    "        \n",
    "        movie_info_list.append(get_info_box(full_path))\n",
    "        \n",
    "    except Exception as e:\n",
    "        print(movie.get_text())\n",
    "        print(e)"
   ]
  },
  {
   "cell_type": "code",
   "execution_count": 11,
   "id": "a266dacf",
   "metadata": {},
   "outputs": [
    {
     "data": {
      "text/plain": [
       "521"
      ]
     },
     "execution_count": 11,
     "metadata": {},
     "output_type": "execute_result"
    }
   ],
   "source": [
    "len(movie_info_list)"
   ]
  },
  {
   "cell_type": "markdown",
   "id": "50dca28b",
   "metadata": {},
   "source": [
    "#### Saving/loading movie data"
   ]
  },
  {
   "cell_type": "code",
   "execution_count": 73,
   "id": "2c05ea79",
   "metadata": {},
   "outputs": [],
   "source": [
    "import json\n",
    "\n",
    "def save_data(title, data):\n",
    "    with open(title, 'w', encoding='utf-8') as f:\n",
    "        json.dump(data, f, ensure_ascii=False, indent=2)"
   ]
  },
  {
   "cell_type": "code",
   "execution_count": 74,
   "id": "5bed1360",
   "metadata": {},
   "outputs": [],
   "source": [
    "import json\n",
    "\n",
    "def load_data(title):\n",
    "    with open(title, encoding=\"utf-8\") as f:\n",
    "        return json.load(f)"
   ]
  },
  {
   "cell_type": "code",
   "execution_count": 31,
   "id": "a06cd931",
   "metadata": {},
   "outputs": [],
   "source": [
    "save_data(\"disney_data_cleaned.json\", movie_info_list)"
   ]
  },
  {
   "cell_type": "markdown",
   "id": "14c300e8",
   "metadata": {},
   "source": [
    "### Cleaning the data"
   ]
  },
  {
   "cell_type": "code",
   "execution_count": 8,
   "id": "d2480c29",
   "metadata": {},
   "outputs": [],
   "source": [
    "movie_info_list = load_data(\"disney_data_cleaned.json\")"
   ]
  },
  {
   "cell_type": "markdown",
   "id": "6f10d5f6",
   "metadata": {},
   "source": [
    "#### Tasks\n",
    "- ~~Clean up references [1]~~\n",
    "- ~~Convert running time to integer~~\n",
    "- ~~Convert dates into datetime object~~\n",
    "- ~~Split up the long strings~~\n",
    "- ~~Convert Budget & Box Office to integers~~"
   ]
  },
  {
   "cell_type": "code",
   "execution_count": 8,
   "id": "174da2fb",
   "metadata": {},
   "outputs": [
    {
     "data": {
      "text/plain": [
       "{'title': '',\n",
       " 'Music': 'Stephen Flaherty',\n",
       " 'Lyrics': 'Lynn Ahrens',\n",
       " 'Book': 'Lynn Ahrens',\n",
       " 'Basis': ['My Love, My Love; or, The Peasant Girl', 'by', 'Rosa Guy'],\n",
       " 'Productions': ['1990',\n",
       "  'Broadway',\n",
       "  '1994 UK/Europe',\n",
       "  '1995',\n",
       "  'West End',\n",
       "  '2009 UK',\n",
       "  'revival',\n",
       "  '2017 Broadway revival',\n",
       "  '2019 National Tour'],\n",
       " 'Awards': ['1995',\n",
       "  'Laurence Olivier Award for Best New Musical',\n",
       "  '2018',\n",
       "  'Tony Award for Best Revival of a Musical']}"
      ]
     },
     "execution_count": 8,
     "metadata": {},
     "output_type": "execute_result"
    }
   ],
   "source": [
    "movie_info_list[-10]"
   ]
  },
  {
   "cell_type": "code",
   "execution_count": 4,
   "id": "746b5556",
   "metadata": {},
   "outputs": [],
   "source": [
    "#print([movie.get('Running time', 'N/A') for movie in movie_info_list])"
   ]
  },
  {
   "cell_type": "code",
   "execution_count": 10,
   "id": "3104ff93",
   "metadata": {},
   "outputs": [],
   "source": [
    "def minutes_to_integer(running_time):\n",
    "    if running_time == \"N/A\":\n",
    "        return None\n",
    "    if isinstance(running_time, list):\n",
    "        return int(running_time[0].split(\" \")[0])\n",
    "    else:\n",
    "        return int(running_time.split(\" \")[0])\n",
    "\n",
    "for movie in movie_info_list:\n",
    "    movie['Running time (mins)'] = minutes_to_integer(movie.get('Running time', \"N/A\"))\n"
   ]
  },
  {
   "cell_type": "code",
   "execution_count": 5,
   "id": "d34b45a8",
   "metadata": {},
   "outputs": [],
   "source": [
    "#print([movie.get('Budget', 'N/A') for movie in movie_info_list])"
   ]
  },
  {
   "cell_type": "code",
   "execution_count": 6,
   "id": "1167477d",
   "metadata": {},
   "outputs": [],
   "source": [
    "#print([movie.get('Running time (mins)', 'N/A') for movie in movie_info_list])"
   ]
  },
  {
   "cell_type": "markdown",
   "id": "cc644581",
   "metadata": {},
   "source": [
    "#### Converting Budget and Box office to float values"
   ]
  },
  {
   "cell_type": "code",
   "execution_count": 13,
   "id": "1942bb65",
   "metadata": {},
   "outputs": [],
   "source": [
    "import re\n",
    "\n",
    "amounts = r\"thousand|million|billion\"\n",
    "number = r\"\\d+(,\\d{3})*\\.*\\d*\"\n",
    "\n",
    "range_og = rf\"\\${number}(-|\\sto\\s|–)({number})\\s({amounts})\"\n",
    "range_re1 = rf\"\\${number}(-|\\sto\\s|–)\"\n",
    "range_re2 = rf\"({number})\\s({amounts})\"\n",
    "range_re = rf\"{range_re1}{range_re2}\"\n",
    "word_re = rf\"\\${number}(-|\\sto\\s)?({number})?\\s({amounts})\"\n",
    "value_re = rf\"\\${number}\"\n",
    "\n",
    "\n",
    "def word_to_value(word):\n",
    "    value_dict = {\"thousand\": 1000, \"million\": 1000000, \"billion\": 1000000000}\n",
    "    return value_dict[word]\n",
    "\n",
    "def value_conversion(string):   \n",
    "        v_string = re.search(number, string).group()\n",
    "        value = float(v_string.replace(\",\", \"\"))\n",
    "        return value\n",
    "\n",
    "def range_value_conversion(string):\n",
    "    trim = re.findall(range_re2, string, flags=re.I)\n",
    "    value1 = value_conversion(string)\n",
    "    value2 = float(trim[0][0])\n",
    "    return ((value1 + value2)*0.5)\n",
    "\n",
    "def parse_word_syntax(string):\n",
    "    value = value_conversion(string)\n",
    "    word = re.search(amounts, string, flags=re.I).group().lower()\n",
    "    word_value = word_to_value(word)\n",
    "    return value*word_value\n",
    "    \n",
    "def parse_range_syntax(string):\n",
    "    value = range_value_conversion(string)\n",
    "    word = re.search(amounts, string, flags=re.I).group().lower()\n",
    "    word_value = word_to_value(word)\n",
    "    return value*word_value\n",
    "\n",
    "def parse_value_syntax(string):\n",
    "    return value_conversion(string)\n",
    "\n",
    "'''\n",
    "money_conversion(\"$12.2 million\") --> 12200000 # Word syntax\n",
    "money_conversion(\"$790,000\") --> 790000 ## Value syntax\n",
    "'''\n",
    "\n",
    "def money_conversion(money):\n",
    "    if money == \"N/A\":\n",
    "        return None\n",
    "\n",
    "    if isinstance(money, list):\n",
    "        money = money[0]\n",
    "        \n",
    "    range_syntax = re.search(range_re,money, flags=re.I)\n",
    "    word_syntax = re.search(word_re, money, flags=re.I)\n",
    "    value_syntax = re.search(value_re, money)\n",
    "\n",
    "\n",
    "    if range_syntax:\n",
    "        return parse_range_syntax(range_syntax.group())\n",
    "\n",
    "    if word_syntax:\n",
    "        return parse_word_syntax(word_syntax.group())\n",
    "\n",
    "    elif value_syntax:\n",
    "        return parse_value_syntax(value_syntax.group())\n",
    "    else:\n",
    "        return None"
   ]
  },
  {
   "cell_type": "code",
   "execution_count": 14,
   "id": "c86e38dc",
   "metadata": {},
   "outputs": [],
   "source": [
    "for movie in movie_info_list:\n",
    "    movie['Budget (float)'] = money_conversion(movie.get('Budget', \"N/A\"))\n",
    "    movie['Box office (float)'] = money_conversion(movie.get('Box office', \"N/A\"))"
   ]
  },
  {
   "cell_type": "code",
   "execution_count": 43,
   "id": "64f12ac1",
   "metadata": {},
   "outputs": [
    {
     "data": {
      "text/plain": [
       "150000000.0"
      ]
     },
     "execution_count": 43,
     "metadata": {},
     "output_type": "execute_result"
    }
   ],
   "source": [
    "money_conversion(movie_info_list[-44]['Budget'])"
   ]
  },
  {
   "cell_type": "markdown",
   "id": "c26490fe",
   "metadata": {
    "collapsed": true
   },
   "source": [
    "#### Converting Release date to datetime object"
   ]
  },
  {
   "cell_type": "code",
   "execution_count": 59,
   "id": "c8f91649",
   "metadata": {},
   "outputs": [],
   "source": [
    "# Converting Release dates to datetime object\n",
    "from datetime import datetime\n",
    "\n",
    "# dates = [movie.get(['Release date', 'Release dates'], 'N/A') for movie in movie_info_list]\n",
    "\n",
    "def clean_date(date):\n",
    "    return date.split(\"(\")[0].strip()\n",
    "\n",
    "def date_conversion(date):\n",
    "    if isinstance(date, list):\n",
    "        date = date[0]\n",
    "\n",
    "    if date == \"N/A\":\n",
    "        return None\n",
    "\n",
    "    date_str = clean_date(date)\n",
    "    fmts = [\"%B %d, %Y\", \"%d %B, %Y\", \"%d %B %Y\"]\n",
    "    for fmt in fmts:\n",
    "        try:\n",
    "            return datetime.strptime(date_str, fmt)\n",
    "        except:\n",
    "            pass\n",
    "    return None\n"
   ]
  },
  {
   "cell_type": "code",
   "execution_count": 41,
   "id": "8db4dfb7",
   "metadata": {},
   "outputs": [],
   "source": [
    "from datetime import datetime\n",
    "\n",
    "\n",
    "\n",
    "def clean_date(date):\n",
    "    return date.split(\"(\")[0].strip()\n",
    "\n",
    "def date_conversion_complex(movies):\n",
    "    date_title = rf\"Release date(s?)\"\n",
    " \n",
    "    for movie in movies:\n",
    "        date = movie.get(date_title, 'N/A')\n",
    "        print(date)\n",
    "#         return date\n",
    "\n",
    "\n",
    "    if isinstance(date, list):\n",
    "        date = date[0]\n",
    "\n",
    "    if date == \"N/A\":\n",
    "        return None\n",
    "\n",
    "    date_str = clean_date(date)\n",
    "    print(date_str)\n",
    "    fmts = [\"%B %d, %Y\", \"%d %B, %Y\", \"%d %B %Y\"]\n",
    "    for fmt in fmts:\n",
    "        try:\n",
    "            return datetime.strptime(date_str, fmt)\n",
    "        except:\n",
    "            pass\n",
    "    return None\n"
   ]
  },
  {
   "cell_type": "code",
   "execution_count": 60,
   "id": "0a37a903",
   "metadata": {},
   "outputs": [],
   "source": [
    "key1 = 'Release date'\n",
    "key2 = 'Release dates'\n",
    "for movie in movie_info_list:\n",
    "    if key1 in movie.keys():\n",
    "        movie['Release date (datetime)'] = date_conversion(movie.get('Release date', 'N/A'))\n",
    "    if key2 in movie.keys():\n",
    "        movie['Release date (datetime)'] = date_conversion(movie.get('Release dates', 'N/A'))"
   ]
  },
  {
   "cell_type": "markdown",
   "id": "e6b3ebd2",
   "metadata": {},
   "source": [
    "#### Using Pickle to allow saving with datetime objects"
   ]
  },
  {
   "cell_type": "code",
   "execution_count": 27,
   "id": "3efe8c87",
   "metadata": {},
   "outputs": [],
   "source": [
    "# New method of saving data to allow saving of new data with datetime objects\n",
    "import pickle\n",
    "\n",
    "def save_data_pickle(name, data):\n",
    "    with open(name, 'wb') as f:\n",
    "        pickle.dump(data, f)"
   ]
  },
  {
   "cell_type": "code",
   "execution_count": 2,
   "id": "6eec8c8e",
   "metadata": {},
   "outputs": [],
   "source": [
    "import pickle\n",
    "\n",
    "def load_data_pickle(name):\n",
    "    with open(name, 'rb') as f:\n",
    "        return pickle.load(f)"
   ]
  },
  {
   "cell_type": "code",
   "execution_count": 67,
   "id": "f84f261e",
   "metadata": {},
   "outputs": [],
   "source": [
    "save_data_pickle(\"disney_movie_data_cleaned_further.pickle\", movie_info_list)"
   ]
  },
  {
   "cell_type": "code",
   "execution_count": 68,
   "id": "128a4033",
   "metadata": {},
   "outputs": [],
   "source": [
    "a = load_data_pickle(\"disney_movie_data_cleaned_further.pickle\")"
   ]
  },
  {
   "cell_type": "code",
   "execution_count": 69,
   "id": "27e5a8e3",
   "metadata": {},
   "outputs": [
    {
     "data": {
      "text/plain": [
       "True"
      ]
     },
     "execution_count": 69,
     "metadata": {},
     "output_type": "execute_result"
    }
   ],
   "source": [
    "a == movie_info_list"
   ]
  },
  {
   "cell_type": "markdown",
   "id": "725ff962",
   "metadata": {},
   "source": [
    "### Attaching IMDB/Rotten Tomatoes/ Metacritic scores"
   ]
  },
  {
   "cell_type": "code",
   "execution_count": 4,
   "id": "4d4a99ad",
   "metadata": {},
   "outputs": [],
   "source": [
    "movie_info_list = load_data_pickle('disney_movie_data_cleaned_further.pickle')"
   ]
  },
  {
   "cell_type": "code",
   "execution_count": 5,
   "id": "594348a8",
   "metadata": {},
   "outputs": [
    {
     "data": {
      "text/plain": [
       "{'title': 'Onward',\n",
       " 'Directed by': 'Dan Scanlon',\n",
       " 'Screenplay by': ['Dan Scanlon', 'Jason Headley', 'Keith Bunin'],\n",
       " 'Story by': ['Dan Scanlon', 'Keith Bunin', 'Jason Headley'],\n",
       " 'Produced by': 'Kori Rae',\n",
       " 'Starring': ['Tom Holland',\n",
       "  'Chris Pratt',\n",
       "  'Julia Louis-Dreyfus',\n",
       "  'Octavia Spencer'],\n",
       " 'Cinematography': ['Sharon Calahan', 'Adam Habib'],\n",
       " 'Edited by': 'Catherine Apple',\n",
       " 'Music by': ['Mychael Danna', 'Jeff Danna'],\n",
       " 'Production companies': ['Walt Disney Pictures', 'Pixar Animation Studios'],\n",
       " 'Distributed by': ['Walt Disney Studios', 'Motion Pictures'],\n",
       " 'Release dates': ['February 21, 2020 ( Berlinale )',\n",
       "  'March 6, 2020 (United States)'],\n",
       " 'Running time': '102 minutes',\n",
       " 'Country': 'United States',\n",
       " 'Language': 'English',\n",
       " 'Budget': '$175–200 million',\n",
       " 'Box office': '$141.9 million',\n",
       " 'Running time (mins)': 102,\n",
       " 'Budget (float)': 187500000.0,\n",
       " 'Box office (float)': 141900000.0,\n",
       " 'Release date (datetime)': datetime.datetime(2020, 2, 21, 0, 0)}"
      ]
     },
     "execution_count": 5,
     "metadata": {},
     "output_type": "execute_result"
    }
   ],
   "source": [
    "movie_info_list[-60]"
   ]
  },
  {
   "cell_type": "code",
   "execution_count": null,
   "id": "fc30faf6",
   "metadata": {},
   "outputs": [],
   "source": [
    "http://www.omdbapi.com/?apikey=[]&"
   ]
  },
  {
   "cell_type": "code",
   "execution_count": 1,
   "id": "215d5f63",
   "metadata": {},
   "outputs": [],
   "source": [
    "import requests\n",
    "import urllib\n",
    "import os\n",
    "\n",
    "def get_omdb_info(title):\n",
    "    base_url = \"http://www.omdbapi.com/?\"\n",
    "    parameters = {\"apikey\": os.environ['OMDB_API_KEY'], 't': title}\n",
    "    params_encoded = urllib.parse.urlencode(parameters)\n",
    "    full_url = base_url + params_encoded\n",
    "    return requests.get(full_url).json()\n",
    "\n",
    "def get_rotten_tomato_score(omdb_info):\n",
    "    ratings = omdb_info.get('Ratings', [])\n",
    "    for rating in ratings:\n",
    "        if rating['Source'] == 'Rotten Tomatoes':\n",
    "            return rating['Value']"
   ]
  },
  {
   "cell_type": "code",
   "execution_count": 19,
   "id": "5604c9aa",
   "metadata": {},
   "outputs": [],
   "source": [
    "for movie in movie_info_list:\n",
    "    title = movie['title']\n",
    "    omdb_info = get_omdb_info(title)\n",
    "    movie['IMDb rating'] = omdb_info.get('imdbRating', None)\n",
    "    movie['Metascore'] = omdb_info.get('Metascore', None)\n",
    "    movie['Rotten Tomatoes'] = get_rotten_tomato_score(omdb_info)"
   ]
  },
  {
   "cell_type": "code",
   "execution_count": 25,
   "id": "83ae804e",
   "metadata": {
    "collapsed": true
   },
   "outputs": [
    {
     "data": {
      "text/plain": [
       "{'title': 'The Aristocats',\n",
       " 'Directed by': 'Wolfgang Reitherman',\n",
       " 'Story by': ['Ken Anderson',\n",
       "  'Larry Clemmons',\n",
       "  'Eric Cleworth',\n",
       "  'Vance Gerry',\n",
       "  'Julius Svendsen',\n",
       "  'Frank Thomas',\n",
       "  'Ralph Wright'],\n",
       " 'Based on': ['Tom McGowan', 'Tom Rowe'],\n",
       " 'Produced by': ['Winston Hibler', 'Wolfgang Reitherman'],\n",
       " 'Starring': ['Phil Harris',\n",
       "  'Eva Gabor',\n",
       "  'Sterling Holloway',\n",
       "  'Scatman Crothers',\n",
       "  'Paul Winchell',\n",
       "  'Lord Tim Hudson',\n",
       "  'Thurl Ravenscroft',\n",
       "  'Dean Clark',\n",
       "  'Liz English',\n",
       "  'Gary Dubin'],\n",
       " 'Edited by': 'Tom Acosta',\n",
       " 'Music by': 'George Bruns',\n",
       " 'Production company': 'Walt Disney Productions',\n",
       " 'Distributed by': 'Buena Vista Distribution',\n",
       " 'Release dates': ['December 11, 1970 (premiere)',\n",
       "  'December 24, 1970 (United States)'],\n",
       " 'Running time': '79 minutes',\n",
       " 'Country': 'United States',\n",
       " 'Language': 'English',\n",
       " 'Budget': '$4 million',\n",
       " 'Box office': '$191 million',\n",
       " 'Running time (mins)': 79,\n",
       " 'Budget (float)': 4000000.0,\n",
       " 'Box office (float)': 191000000.0,\n",
       " 'Release date (datetime)': datetime.datetime(1970, 12, 11, 0, 0),\n",
       " 'IMDb rating': '7.1',\n",
       " 'Metascore': '66',\n",
       " 'Rotten Tomatoes': '64%'}"
      ]
     },
     "execution_count": 25,
     "metadata": {},
     "output_type": "execute_result"
    }
   ],
   "source": [
    "movie_info_list[-5]"
   ]
  },
  {
   "cell_type": "code",
   "execution_count": 28,
   "id": "e4b5612c",
   "metadata": {},
   "outputs": [],
   "source": [
    "save_data_pickle('disney_movie_data_final.pickle', movie_info_list)"
   ]
  },
  {
   "cell_type": "markdown",
   "id": "28776530",
   "metadata": {},
   "source": [
    "### Saving data as JSON & CSV"
   ]
  },
  {
   "cell_type": "code",
   "execution_count": 65,
   "id": "9a9fafa2",
   "metadata": {},
   "outputs": [],
   "source": [
    "movie_info_copy = [movie.copy() for movie in movie_info_list]"
   ]
  },
  {
   "cell_type": "code",
   "execution_count": 70,
   "id": "f37ad044",
   "metadata": {
    "collapsed": true
   },
   "outputs": [
    {
     "data": {
      "text/plain": [
       "{'title': 'The Rocketeer',\n",
       " 'Directed by': 'Joe Johnston',\n",
       " 'Screenplay by': ['Danny Bilson', 'Paul De Meo'],\n",
       " 'Story by': ['Danny Bilson', 'Paul De Meo', 'William Dear'],\n",
       " 'Based on': ['The Rocketeer', 'by', 'Dave Stevens'],\n",
       " 'Produced by': ['Charles Gordon', 'Lawrence Gordon', 'Lloyd Levin'],\n",
       " 'Starring': ['Bill Campbell',\n",
       "  'Alan Arkin',\n",
       "  'Jennifer Connelly',\n",
       "  'Paul Sorvino',\n",
       "  'Timothy Dalton'],\n",
       " 'Cinematography': 'Hiro Narita',\n",
       " 'Edited by': ['Michael A. Stevenson', 'Arthur Schmidt'],\n",
       " 'Music by': 'James Horner',\n",
       " 'Production companies': ['Walt Disney Pictures',\n",
       "  'Touchstone Pictures',\n",
       "  'Silver Screen Partners IV',\n",
       "  'Gordon Company'],\n",
       " 'Distributed by': 'Buena Vista Pictures Distribution',\n",
       " 'Release date': ['June 21, 1991'],\n",
       " 'Running time': '108 minutes',\n",
       " 'Country': 'United States',\n",
       " 'Language': 'English',\n",
       " 'Budget': '$35-40 million',\n",
       " 'Box office': '$46.7 million (USA)',\n",
       " 'Running time (mins)': 108,\n",
       " 'Budget (float)': 37500000.0,\n",
       " 'Box office (float)': 46700000.0,\n",
       " 'Release date (datetime)': 'June 21, 1991',\n",
       " 'IMDb rating': '6.5',\n",
       " 'Metascore': '61',\n",
       " 'Rotten Tomatoes': '66%'}"
      ]
     },
     "execution_count": 70,
     "metadata": {},
     "output_type": "execute_result"
    }
   ],
   "source": [
    "movie_info_copy[-2]"
   ]
  },
  {
   "cell_type": "code",
   "execution_count": 66,
   "id": "f9c3c63b",
   "metadata": {},
   "outputs": [],
   "source": [
    "from datetime import datetime\n",
    "date_key = 'Release date (datetime)'\n",
    "\n",
    "for movie in movie_info_copy:\n",
    "    if date_key in movie.keys():\n",
    "        current_date = movie['Release date (datetime)']\n",
    "        if current_date:\n",
    "            movie['Release date (datetime)'] = current_date.strftime(\"%B %d, %Y\")\n",
    "        else:\n",
    "            movie['Release date (datetime)'] = None\n",
    "    else:\n",
    "        pass"
   ]
  },
  {
   "cell_type": "code",
   "execution_count": 75,
   "id": "99660b62",
   "metadata": {},
   "outputs": [],
   "source": [
    "save_data(\"disney_data_final.json\", movie_info_copy)"
   ]
  },
  {
   "cell_type": "markdown",
   "id": "44241fe8",
   "metadata": {},
   "source": [
    "#### Converting data to CSV"
   ]
  },
  {
   "cell_type": "code",
   "execution_count": 76,
   "id": "0b2d090e",
   "metadata": {},
   "outputs": [],
   "source": [
    "import pandas as pd\n",
    "\n",
    "df = pd.DataFrame(movie_info_list)"
   ]
  },
  {
   "cell_type": "code",
   "execution_count": 77,
   "id": "bca20499",
   "metadata": {},
   "outputs": [
    {
     "data": {
      "text/html": [
       "<div>\n",
       "<style scoped>\n",
       "    .dataframe tbody tr th:only-of-type {\n",
       "        vertical-align: middle;\n",
       "    }\n",
       "\n",
       "    .dataframe tbody tr th {\n",
       "        vertical-align: top;\n",
       "    }\n",
       "\n",
       "    .dataframe thead th {\n",
       "        text-align: right;\n",
       "    }\n",
       "</style>\n",
       "<table border=\"1\" class=\"dataframe\">\n",
       "  <thead>\n",
       "    <tr style=\"text-align: right;\">\n",
       "      <th></th>\n",
       "      <th>title</th>\n",
       "      <th>Production company</th>\n",
       "      <th>Distributed by</th>\n",
       "      <th>Release date</th>\n",
       "      <th>Running time</th>\n",
       "      <th>Country</th>\n",
       "      <th>Language</th>\n",
       "      <th>Box office</th>\n",
       "      <th>Running time (mins)</th>\n",
       "      <th>Budget (float)</th>\n",
       "      <th>...</th>\n",
       "      <th>Original title</th>\n",
       "      <th>Suggested by</th>\n",
       "      <th>Layouts by</th>\n",
       "      <th>Original concept by</th>\n",
       "      <th>Music</th>\n",
       "      <th>Lyrics</th>\n",
       "      <th>Book</th>\n",
       "      <th>Basis</th>\n",
       "      <th>Productions</th>\n",
       "      <th>Awards</th>\n",
       "    </tr>\n",
       "  </thead>\n",
       "  <tbody>\n",
       "    <tr>\n",
       "      <th>0</th>\n",
       "      <td>Academy Award Review of</td>\n",
       "      <td>Walt Disney Productions</td>\n",
       "      <td>United Artists</td>\n",
       "      <td>[May 19, 1937]</td>\n",
       "      <td>41 minutes (74 minutes 1966 release)</td>\n",
       "      <td>United States</td>\n",
       "      <td>English</td>\n",
       "      <td>$45.472</td>\n",
       "      <td>41.0</td>\n",
       "      <td>NaN</td>\n",
       "      <td>...</td>\n",
       "      <td>NaN</td>\n",
       "      <td>NaN</td>\n",
       "      <td>NaN</td>\n",
       "      <td>NaN</td>\n",
       "      <td>NaN</td>\n",
       "      <td>NaN</td>\n",
       "      <td>NaN</td>\n",
       "      <td>NaN</td>\n",
       "      <td>NaN</td>\n",
       "      <td>NaN</td>\n",
       "    </tr>\n",
       "    <tr>\n",
       "      <th>1</th>\n",
       "      <td>Snow White and the Seven Dwarfs</td>\n",
       "      <td>Walt Disney Productions</td>\n",
       "      <td>RKO Radio Pictures</td>\n",
       "      <td>NaN</td>\n",
       "      <td>83 minutes</td>\n",
       "      <td>United States</td>\n",
       "      <td>English</td>\n",
       "      <td>$418 million</td>\n",
       "      <td>83.0</td>\n",
       "      <td>1490000.0</td>\n",
       "      <td>...</td>\n",
       "      <td>NaN</td>\n",
       "      <td>NaN</td>\n",
       "      <td>NaN</td>\n",
       "      <td>NaN</td>\n",
       "      <td>NaN</td>\n",
       "      <td>NaN</td>\n",
       "      <td>NaN</td>\n",
       "      <td>NaN</td>\n",
       "      <td>NaN</td>\n",
       "      <td>NaN</td>\n",
       "    </tr>\n",
       "    <tr>\n",
       "      <th>2</th>\n",
       "      <td>Pinocchio</td>\n",
       "      <td>Walt Disney Productions</td>\n",
       "      <td>RKO Radio Pictures</td>\n",
       "      <td>NaN</td>\n",
       "      <td>88 minutes</td>\n",
       "      <td>United States</td>\n",
       "      <td>English</td>\n",
       "      <td>$164 million</td>\n",
       "      <td>88.0</td>\n",
       "      <td>2600000.0</td>\n",
       "      <td>...</td>\n",
       "      <td>NaN</td>\n",
       "      <td>NaN</td>\n",
       "      <td>NaN</td>\n",
       "      <td>NaN</td>\n",
       "      <td>NaN</td>\n",
       "      <td>NaN</td>\n",
       "      <td>NaN</td>\n",
       "      <td>NaN</td>\n",
       "      <td>NaN</td>\n",
       "      <td>NaN</td>\n",
       "    </tr>\n",
       "    <tr>\n",
       "      <th>3</th>\n",
       "      <td>Fantasia</td>\n",
       "      <td>Walt Disney Productions</td>\n",
       "      <td>RKO Radio Pictures</td>\n",
       "      <td>[November 13, 1940]</td>\n",
       "      <td>126 minutes</td>\n",
       "      <td>United States</td>\n",
       "      <td>English</td>\n",
       "      <td>$76.4–$83.3 million (United States and Canada)</td>\n",
       "      <td>126.0</td>\n",
       "      <td>2280000.0</td>\n",
       "      <td>...</td>\n",
       "      <td>NaN</td>\n",
       "      <td>NaN</td>\n",
       "      <td>NaN</td>\n",
       "      <td>NaN</td>\n",
       "      <td>NaN</td>\n",
       "      <td>NaN</td>\n",
       "      <td>NaN</td>\n",
       "      <td>NaN</td>\n",
       "      <td>NaN</td>\n",
       "      <td>NaN</td>\n",
       "    </tr>\n",
       "    <tr>\n",
       "      <th>4</th>\n",
       "      <td>The Reluctant Dragon</td>\n",
       "      <td>Walt Disney Productions</td>\n",
       "      <td>RKO Radio Pictures</td>\n",
       "      <td>[June 27, 1941]</td>\n",
       "      <td>74 minutes</td>\n",
       "      <td>United States</td>\n",
       "      <td>English</td>\n",
       "      <td>$960,000 (worldwide rentals)</td>\n",
       "      <td>74.0</td>\n",
       "      <td>600000.0</td>\n",
       "      <td>...</td>\n",
       "      <td>NaN</td>\n",
       "      <td>NaN</td>\n",
       "      <td>NaN</td>\n",
       "      <td>NaN</td>\n",
       "      <td>NaN</td>\n",
       "      <td>NaN</td>\n",
       "      <td>NaN</td>\n",
       "      <td>NaN</td>\n",
       "      <td>NaN</td>\n",
       "      <td>NaN</td>\n",
       "    </tr>\n",
       "  </tbody>\n",
       "</table>\n",
       "<p>5 rows × 48 columns</p>\n",
       "</div>"
      ],
      "text/plain": [
       "                             title       Production company  \\\n",
       "0          Academy Award Review of  Walt Disney Productions   \n",
       "1  Snow White and the Seven Dwarfs  Walt Disney Productions   \n",
       "2                        Pinocchio  Walt Disney Productions   \n",
       "3                         Fantasia  Walt Disney Productions   \n",
       "4             The Reluctant Dragon  Walt Disney Productions   \n",
       "\n",
       "       Distributed by         Release date  \\\n",
       "0      United Artists       [May 19, 1937]   \n",
       "1  RKO Radio Pictures                  NaN   \n",
       "2  RKO Radio Pictures                  NaN   \n",
       "3  RKO Radio Pictures  [November 13, 1940]   \n",
       "4  RKO Radio Pictures      [June 27, 1941]   \n",
       "\n",
       "                           Running time        Country Language  \\\n",
       "0  41 minutes (74 minutes 1966 release)  United States  English   \n",
       "1                            83 minutes  United States  English   \n",
       "2                            88 minutes  United States  English   \n",
       "3                           126 minutes  United States  English   \n",
       "4                            74 minutes  United States  English   \n",
       "\n",
       "                                       Box office  Running time (mins)  \\\n",
       "0                                         $45.472                 41.0   \n",
       "1                                    $418 million                 83.0   \n",
       "2                                    $164 million                 88.0   \n",
       "3  $76.4–$83.3 million (United States and Canada)                126.0   \n",
       "4                    $960,000 (worldwide rentals)                 74.0   \n",
       "\n",
       "   Budget (float)  ...  Original title Suggested by Layouts by  \\\n",
       "0             NaN  ...             NaN          NaN        NaN   \n",
       "1       1490000.0  ...             NaN          NaN        NaN   \n",
       "2       2600000.0  ...             NaN          NaN        NaN   \n",
       "3       2280000.0  ...             NaN          NaN        NaN   \n",
       "4        600000.0  ...             NaN          NaN        NaN   \n",
       "\n",
       "  Original concept by Music Lyrics Book Basis Productions Awards  \n",
       "0                 NaN   NaN    NaN  NaN   NaN         NaN    NaN  \n",
       "1                 NaN   NaN    NaN  NaN   NaN         NaN    NaN  \n",
       "2                 NaN   NaN    NaN  NaN   NaN         NaN    NaN  \n",
       "3                 NaN   NaN    NaN  NaN   NaN         NaN    NaN  \n",
       "4                 NaN   NaN    NaN  NaN   NaN         NaN    NaN  \n",
       "\n",
       "[5 rows x 48 columns]"
      ]
     },
     "execution_count": 77,
     "metadata": {},
     "output_type": "execute_result"
    }
   ],
   "source": [
    "df.head()"
   ]
  },
  {
   "cell_type": "code",
   "execution_count": 79,
   "id": "129e1595",
   "metadata": {},
   "outputs": [],
   "source": [
    "df.to_csv(\"disney_movie_data_final.csv\")"
   ]
  },
  {
   "cell_type": "code",
   "execution_count": 82,
   "id": "2f4962fe",
   "metadata": {},
   "outputs": [
    {
     "data": {
      "text/html": [
       "<div>\n",
       "<style scoped>\n",
       "    .dataframe tbody tr th:only-of-type {\n",
       "        vertical-align: middle;\n",
       "    }\n",
       "\n",
       "    .dataframe tbody tr th {\n",
       "        vertical-align: top;\n",
       "    }\n",
       "\n",
       "    .dataframe thead th {\n",
       "        text-align: right;\n",
       "    }\n",
       "</style>\n",
       "<table border=\"1\" class=\"dataframe\">\n",
       "  <thead>\n",
       "    <tr style=\"text-align: right;\">\n",
       "      <th></th>\n",
       "      <th>title</th>\n",
       "      <th>Production company</th>\n",
       "      <th>Distributed by</th>\n",
       "      <th>Release date</th>\n",
       "      <th>Running time</th>\n",
       "      <th>Country</th>\n",
       "      <th>Language</th>\n",
       "      <th>Box office</th>\n",
       "      <th>Running time (mins)</th>\n",
       "      <th>Budget (float)</th>\n",
       "      <th>...</th>\n",
       "      <th>Original title</th>\n",
       "      <th>Suggested by</th>\n",
       "      <th>Layouts by</th>\n",
       "      <th>Original concept by</th>\n",
       "      <th>Music</th>\n",
       "      <th>Lyrics</th>\n",
       "      <th>Book</th>\n",
       "      <th>Basis</th>\n",
       "      <th>Productions</th>\n",
       "      <th>Awards</th>\n",
       "    </tr>\n",
       "  </thead>\n",
       "  <tbody>\n",
       "    <tr>\n",
       "      <th>287</th>\n",
       "      <td>Sacred Planet</td>\n",
       "      <td>Walt Disney Pictures</td>\n",
       "      <td>Buena Vista Pictures</td>\n",
       "      <td>[April 22, 2004]</td>\n",
       "      <td>40 minutes</td>\n",
       "      <td>NaN</td>\n",
       "      <td>English</td>\n",
       "      <td>$1,108,356</td>\n",
       "      <td>40.0</td>\n",
       "      <td>NaN</td>\n",
       "      <td>...</td>\n",
       "      <td>NaN</td>\n",
       "      <td>NaN</td>\n",
       "      <td>NaN</td>\n",
       "      <td>NaN</td>\n",
       "      <td>NaN</td>\n",
       "      <td>NaN</td>\n",
       "      <td>NaN</td>\n",
       "      <td>NaN</td>\n",
       "      <td>NaN</td>\n",
       "      <td>NaN</td>\n",
       "    </tr>\n",
       "    <tr>\n",
       "      <th>312</th>\n",
       "      <td>Roving Mars</td>\n",
       "      <td>NaN</td>\n",
       "      <td>Buena Vista Pictures</td>\n",
       "      <td>[January 27, 2006]</td>\n",
       "      <td>40 minutes</td>\n",
       "      <td>United States</td>\n",
       "      <td>English</td>\n",
       "      <td>$11 million</td>\n",
       "      <td>40.0</td>\n",
       "      <td>1000000.0</td>\n",
       "      <td>...</td>\n",
       "      <td>NaN</td>\n",
       "      <td>NaN</td>\n",
       "      <td>NaN</td>\n",
       "      <td>NaN</td>\n",
       "      <td>NaN</td>\n",
       "      <td>NaN</td>\n",
       "      <td>NaN</td>\n",
       "      <td>NaN</td>\n",
       "      <td>NaN</td>\n",
       "      <td>NaN</td>\n",
       "    </tr>\n",
       "    <tr>\n",
       "      <th>0</th>\n",
       "      <td>Academy Award Review of</td>\n",
       "      <td>Walt Disney Productions</td>\n",
       "      <td>United Artists</td>\n",
       "      <td>[May 19, 1937]</td>\n",
       "      <td>41 minutes (74 minutes 1966 release)</td>\n",
       "      <td>United States</td>\n",
       "      <td>English</td>\n",
       "      <td>$45.472</td>\n",
       "      <td>41.0</td>\n",
       "      <td>NaN</td>\n",
       "      <td>...</td>\n",
       "      <td>NaN</td>\n",
       "      <td>NaN</td>\n",
       "      <td>NaN</td>\n",
       "      <td>NaN</td>\n",
       "      <td>NaN</td>\n",
       "      <td>NaN</td>\n",
       "      <td>NaN</td>\n",
       "      <td>NaN</td>\n",
       "      <td>NaN</td>\n",
       "      <td>NaN</td>\n",
       "    </tr>\n",
       "    <tr>\n",
       "      <th>7</th>\n",
       "      <td>Saludos Amigos</td>\n",
       "      <td>Walt Disney Productions</td>\n",
       "      <td>RKO Radio Pictures</td>\n",
       "      <td>NaN</td>\n",
       "      <td>42 minutes</td>\n",
       "      <td>United States</td>\n",
       "      <td>NaN</td>\n",
       "      <td>$1.135 million (worldwide rentals)</td>\n",
       "      <td>42.0</td>\n",
       "      <td>NaN</td>\n",
       "      <td>...</td>\n",
       "      <td>NaN</td>\n",
       "      <td>NaN</td>\n",
       "      <td>NaN</td>\n",
       "      <td>NaN</td>\n",
       "      <td>NaN</td>\n",
       "      <td>NaN</td>\n",
       "      <td>NaN</td>\n",
       "      <td>NaN</td>\n",
       "      <td>NaN</td>\n",
       "      <td>NaN</td>\n",
       "    </tr>\n",
       "    <tr>\n",
       "      <th>131</th>\n",
       "      <td>A Tale of Two Critters</td>\n",
       "      <td>Walt Disney Productions</td>\n",
       "      <td>Buena Vista Distribution</td>\n",
       "      <td>[June 20, 1977]</td>\n",
       "      <td>48 minutes</td>\n",
       "      <td>United States</td>\n",
       "      <td>English</td>\n",
       "      <td>NaN</td>\n",
       "      <td>48.0</td>\n",
       "      <td>NaN</td>\n",
       "      <td>...</td>\n",
       "      <td>NaN</td>\n",
       "      <td>NaN</td>\n",
       "      <td>NaN</td>\n",
       "      <td>NaN</td>\n",
       "      <td>NaN</td>\n",
       "      <td>NaN</td>\n",
       "      <td>NaN</td>\n",
       "      <td>NaN</td>\n",
       "      <td>NaN</td>\n",
       "      <td>NaN</td>\n",
       "    </tr>\n",
       "  </tbody>\n",
       "</table>\n",
       "<p>5 rows × 48 columns</p>\n",
       "</div>"
      ],
      "text/plain": [
       "                       title       Production company  \\\n",
       "287            Sacred Planet     Walt Disney Pictures   \n",
       "312              Roving Mars                      NaN   \n",
       "0    Academy Award Review of  Walt Disney Productions   \n",
       "7             Saludos Amigos  Walt Disney Productions   \n",
       "131   A Tale of Two Critters  Walt Disney Productions   \n",
       "\n",
       "               Distributed by        Release date  \\\n",
       "287      Buena Vista Pictures    [April 22, 2004]   \n",
       "312      Buena Vista Pictures  [January 27, 2006]   \n",
       "0              United Artists      [May 19, 1937]   \n",
       "7          RKO Radio Pictures                 NaN   \n",
       "131  Buena Vista Distribution     [June 20, 1977]   \n",
       "\n",
       "                             Running time        Country Language  \\\n",
       "287                            40 minutes            NaN  English   \n",
       "312                            40 minutes  United States  English   \n",
       "0    41 minutes (74 minutes 1966 release)  United States  English   \n",
       "7                              42 minutes  United States      NaN   \n",
       "131                            48 minutes  United States  English   \n",
       "\n",
       "                             Box office  Running time (mins)  Budget (float)  \\\n",
       "287                          $1,108,356                 40.0             NaN   \n",
       "312                         $11 million                 40.0       1000000.0   \n",
       "0                               $45.472                 41.0             NaN   \n",
       "7    $1.135 million (worldwide rentals)                 42.0             NaN   \n",
       "131                                 NaN                 48.0             NaN   \n",
       "\n",
       "     ...  Original title Suggested by Layouts by Original concept by Music  \\\n",
       "287  ...             NaN          NaN        NaN                 NaN   NaN   \n",
       "312  ...             NaN          NaN        NaN                 NaN   NaN   \n",
       "0    ...             NaN          NaN        NaN                 NaN   NaN   \n",
       "7    ...             NaN          NaN        NaN                 NaN   NaN   \n",
       "131  ...             NaN          NaN        NaN                 NaN   NaN   \n",
       "\n",
       "    Lyrics Book Basis Productions Awards  \n",
       "287    NaN  NaN   NaN         NaN    NaN  \n",
       "312    NaN  NaN   NaN         NaN    NaN  \n",
       "0      NaN  NaN   NaN         NaN    NaN  \n",
       "7      NaN  NaN   NaN         NaN    NaN  \n",
       "131    NaN  NaN   NaN         NaN    NaN  \n",
       "\n",
       "[5 rows x 48 columns]"
      ]
     },
     "execution_count": 82,
     "metadata": {},
     "output_type": "execute_result"
    }
   ],
   "source": [
    "running_times = df.sort_values(['Running time (mins)'], ascending=True)\n",
    "running_times.head()"
   ]
  }
 ],
 "metadata": {
  "kernelspec": {
   "display_name": "Python 3 (ipykernel)",
   "language": "python",
   "name": "python3"
  },
  "language_info": {
   "codemirror_mode": {
    "name": "ipython",
    "version": 3
   },
   "file_extension": ".py",
   "mimetype": "text/x-python",
   "name": "python",
   "nbconvert_exporter": "python",
   "pygments_lexer": "ipython3",
   "version": "3.9.12"
  }
 },
 "nbformat": 4,
 "nbformat_minor": 5
}
